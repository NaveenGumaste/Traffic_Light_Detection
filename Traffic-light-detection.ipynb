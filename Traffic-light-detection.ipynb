{
 "cells": [
  {
   "cell_type": "code",
   "execution_count": 9,
   "metadata": {},
   "outputs": [],
   "source": [
    "import os"
   ]
  },
  {
   "cell_type": "code",
   "execution_count": 10,
   "metadata": {},
   "outputs": [],
   "source": [
    "import glob"
   ]
  },
  {
   "cell_type": "code",
   "execution_count": 11,
   "metadata": {},
   "outputs": [],
   "source": [
    "from IPython.display import Image, display"
   ]
  },
  {
   "cell_type": "code",
   "execution_count": 12,
   "metadata": {},
   "outputs": [
    {
     "name": "stdout",
     "output_type": "stream",
     "text": [
      "Sat Dec  2 21:14:03 2023       \n",
      "+---------------------------------------------------------------------------------------+\n",
      "| NVIDIA-SMI 546.17                 Driver Version: 546.17       CUDA Version: 12.3     |\n",
      "|-----------------------------------------+----------------------+----------------------+\n",
      "| GPU  Name                     TCC/WDDM  | Bus-Id        Disp.A | Volatile Uncorr. ECC |\n",
      "| Fan  Temp   Perf          Pwr:Usage/Cap |         Memory-Usage | GPU-Util  Compute M. |\n",
      "|                                         |                      |               MIG M. |\n",
      "|=========================================+======================+======================|\n",
      "|   0  NVIDIA GeForce GTX 1050 Ti   WDDM  | 00000000:01:00.0  On |                  N/A |\n",
      "| N/A   46C    P8              N/A / ERR! |    336MiB /  4096MiB |      0%      Default |\n",
      "|                                         |                      |                  N/A |\n",
      "+-----------------------------------------+----------------------+----------------------+\n",
      "                                                                                         \n",
      "+---------------------------------------------------------------------------------------+\n",
      "| Processes:                                                                            |\n",
      "|  GPU   GI   CI        PID   Type   Process name                            GPU Memory |\n",
      "|        ID   ID                                                             Usage      |\n",
      "|=======================================================================================|\n",
      "|    0   N/A  N/A      1512    C+G   ...Programs\\Microsoft VS Code\\Code.exe    N/A      |\n",
      "|    0   N/A  N/A      2356    C+G   ...5n1h2txyewy\\ShellExperienceHost.exe    N/A      |\n",
      "|    0   N/A  N/A      7880    C+G   C:\\Windows\\explorer.exe                   N/A      |\n",
      "|    0   N/A  N/A      7984    C+G   ...al\\Discord\\app-1.0.9025\\Discord.exe    N/A      |\n",
      "|    0   N/A  N/A      8488    C+G   ...t.LockApp_cw5n1h2txyewy\\LockApp.exe    N/A      |\n",
      "|    0   N/A  N/A      9556    C+G   ....Search_cw5n1h2txyewy\\SearchApp.exe    N/A      |\n",
      "|    0   N/A  N/A     12004    C+G   ...CBS_cw5n1h2txyewy\\TextInputHost.exe    N/A      |\n",
      "|    0   N/A  N/A     13020    C+G   ....5237.0_x64__8j3eq9eme6ctt\\IGCC.exe    N/A      |\n",
      "+---------------------------------------------------------------------------------------+\n"
     ]
    }
   ],
   "source": [
    "!nvidia-smi"
   ]
  },
  {
   "cell_type": "code",
   "execution_count": 13,
   "metadata": {},
   "outputs": [
    {
     "name": "stdout",
     "output_type": "stream",
     "text": [
      "Collecting tensorflow-gpu\n",
      "  Using cached tensorflow-gpu-2.12.0.tar.gz (2.6 kB)\n",
      "  Preparing metadata (setup.py): started\n",
      "  Preparing metadata (setup.py): finished with status 'error'\n"
     ]
    },
    {
     "name": "stderr",
     "output_type": "stream",
     "text": [
      "  error: subprocess-exited-with-error\n",
      "  \n",
      "  × python setup.py egg_info did not run successfully.\n",
      "  │ exit code: 1\n",
      "  ╰─> [39 lines of output]\n",
      "      Traceback (most recent call last):\n",
      "        File \"C:\\Users\\navee\\miniconda3\\envs\\cims\\lib\\site-packages\\setuptools\\_vendor\\packaging\\requirements.py\", line 35, in __init__\n",
      "          parsed = _parse_requirement(requirement_string)\n",
      "        File \"C:\\Users\\navee\\miniconda3\\envs\\cims\\lib\\site-packages\\setuptools\\_vendor\\packaging\\_parser.py\", line 64, in parse_requirement\n",
      "          return _parse_requirement(Tokenizer(source, rules=DEFAULT_RULES))\n",
      "        File \"C:\\Users\\navee\\miniconda3\\envs\\cims\\lib\\site-packages\\setuptools\\_vendor\\packaging\\_parser.py\", line 82, in _parse_requirement\n",
      "          url, specifier, marker = _parse_requirement_details(tokenizer)\n",
      "        File \"C:\\Users\\navee\\miniconda3\\envs\\cims\\lib\\site-packages\\setuptools\\_vendor\\packaging\\_parser.py\", line 126, in _parse_requirement_details\n",
      "          marker = _parse_requirement_marker(\n",
      "        File \"C:\\Users\\navee\\miniconda3\\envs\\cims\\lib\\site-packages\\setuptools\\_vendor\\packaging\\_parser.py\", line 147, in _parse_requirement_marker\n",
      "          tokenizer.raise_syntax_error(\n",
      "        File \"C:\\Users\\navee\\miniconda3\\envs\\cims\\lib\\site-packages\\setuptools\\_vendor\\packaging\\_tokenizer.py\", line 165, in raise_syntax_error\n",
      "          raise ParserSyntaxError(\n",
      "      setuptools.extern.packaging._tokenizer.ParserSyntaxError: Expected end or semicolon (after name and no valid version specifier)\n",
      "          python_version>\"3.7\"\n",
      "                        ^\n",
      "      \n",
      "      The above exception was the direct cause of the following exception:\n",
      "      \n",
      "      Traceback (most recent call last):\n",
      "        File \"<string>\", line 2, in <module>\n",
      "        File \"<pip-setuptools-caller>\", line 34, in <module>\n",
      "        File \"C:\\Users\\navee\\AppData\\Local\\Temp\\pip-install-hwmutd_4\\tensorflow-gpu_2e0159a54f6543d5bacffab92e05da87\\setup.py\", line 40, in <module>\n",
      "          setuptools.setup()\n",
      "        File \"C:\\Users\\navee\\miniconda3\\envs\\cims\\lib\\site-packages\\setuptools\\__init__.py\", line 106, in setup\n",
      "          _install_setup_requires(attrs)\n",
      "        File \"C:\\Users\\navee\\miniconda3\\envs\\cims\\lib\\site-packages\\setuptools\\__init__.py\", line 77, in _install_setup_requires\n",
      "          dist.parse_config_files(ignore_option_errors=True)\n",
      "        File \"C:\\Users\\navee\\miniconda3\\envs\\cims\\lib\\site-packages\\setuptools\\dist.py\", line 900, in parse_config_files\n",
      "          self._finalize_requires()\n",
      "        File \"C:\\Users\\navee\\miniconda3\\envs\\cims\\lib\\site-packages\\setuptools\\dist.py\", line 597, in _finalize_requires\n",
      "          self._move_install_requirements_markers()\n",
      "        File \"C:\\Users\\navee\\miniconda3\\envs\\cims\\lib\\site-packages\\setuptools\\dist.py\", line 637, in _move_install_requirements_markers\n",
      "          inst_reqs = list(_reqs.parse(spec_inst_reqs))\n",
      "        File \"C:\\Users\\navee\\miniconda3\\envs\\cims\\lib\\site-packages\\setuptools\\_vendor\\packaging\\requirements.py\", line 37, in __init__\n",
      "          raise InvalidRequirement(str(e)) from e\n",
      "      setuptools.extern.packaging.requirements.InvalidRequirement: Expected end or semicolon (after name and no valid version specifier)\n",
      "          python_version>\"3.7\"\n",
      "                        ^\n",
      "      [end of output]\n",
      "  \n",
      "  note: This error originates from a subprocess, and is likely not a problem with pip.\n",
      "error: metadata-generation-failed\n",
      "\n",
      "× Encountered error while generating package metadata.\n",
      "╰─> See above for output.\n",
      "\n",
      "note: This is an issue with the package mentioned above, not pip.\n",
      "hint: See above for details.\n"
     ]
    }
   ],
   "source": [
    "!pip install tensorflow-gpu"
   ]
  },
  {
   "cell_type": "code",
   "execution_count": 14,
   "metadata": {},
   "outputs": [
    {
     "name": "stdout",
     "output_type": "stream",
     "text": [
      "Requirement already satisfied: ultralytics==8.0.0 in c:\\users\\navee\\miniconda3\\envs\\cims\\lib\\site-packages (8.0.0)\n",
      "Requirement already satisfied: hydra-core>=1.2.0 in c:\\users\\navee\\miniconda3\\envs\\cims\\lib\\site-packages (from ultralytics==8.0.0) (1.3.2)\n",
      "Requirement already satisfied: matplotlib>=3.2.2 in c:\\users\\navee\\miniconda3\\envs\\cims\\lib\\site-packages (from ultralytics==8.0.0) (3.8.0)\n",
      "Requirement already satisfied: numpy>=1.18.5 in c:\\users\\navee\\miniconda3\\envs\\cims\\lib\\site-packages (from ultralytics==8.0.0) (1.26.0)\n",
      "Requirement already satisfied: opencv-python>=4.1.1 in c:\\users\\navee\\miniconda3\\envs\\cims\\lib\\site-packages (from ultralytics==8.0.0) (4.8.1.78)\n",
      "Requirement already satisfied: Pillow>=7.1.2 in c:\\users\\navee\\miniconda3\\envs\\cims\\lib\\site-packages (from ultralytics==8.0.0) (10.0.1)\n",
      "Requirement already satisfied: PyYAML>=5.3.1 in c:\\users\\navee\\miniconda3\\envs\\cims\\lib\\site-packages (from ultralytics==8.0.0) (6.0.1)\n",
      "Requirement already satisfied: requests>=2.23.0 in c:\\users\\navee\\miniconda3\\envs\\cims\\lib\\site-packages (from ultralytics==8.0.0) (2.31.0)\n",
      "Requirement already satisfied: scipy>=1.4.1 in c:\\users\\navee\\miniconda3\\envs\\cims\\lib\\site-packages (from ultralytics==8.0.0) (1.11.3)\n",
      "Requirement already satisfied: torch>=1.7.0 in c:\\users\\navee\\miniconda3\\envs\\cims\\lib\\site-packages (from ultralytics==8.0.0) (2.1.1)\n",
      "Requirement already satisfied: torchvision>=0.8.1 in c:\\users\\navee\\miniconda3\\envs\\cims\\lib\\site-packages (from ultralytics==8.0.0) (0.16.1)\n",
      "Requirement already satisfied: tqdm>=4.64.0 in c:\\users\\navee\\miniconda3\\envs\\cims\\lib\\site-packages (from ultralytics==8.0.0) (4.66.1)\n",
      "Requirement already satisfied: tensorboard>=2.4.1 in c:\\users\\navee\\miniconda3\\envs\\cims\\lib\\site-packages (from ultralytics==8.0.0) (2.15.1)\n",
      "Requirement already satisfied: pandas>=1.1.4 in c:\\users\\navee\\miniconda3\\envs\\cims\\lib\\site-packages (from ultralytics==8.0.0) (2.1.3)\n",
      "Requirement already satisfied: seaborn>=0.11.0 in c:\\users\\navee\\miniconda3\\envs\\cims\\lib\\site-packages (from ultralytics==8.0.0) (0.13.0)\n",
      "Requirement already satisfied: ipython in c:\\users\\navee\\miniconda3\\envs\\cims\\lib\\site-packages (from ultralytics==8.0.0) (8.18.1)\n",
      "Requirement already satisfied: psutil in c:\\users\\navee\\miniconda3\\envs\\cims\\lib\\site-packages (from ultralytics==8.0.0) (5.9.0)\n",
      "Requirement already satisfied: thop>=0.1.1 in c:\\users\\navee\\miniconda3\\envs\\cims\\lib\\site-packages (from ultralytics==8.0.0) (0.1.1.post2209072238)\n",
      "Requirement already satisfied: GitPython>=3.1.24 in c:\\users\\navee\\miniconda3\\envs\\cims\\lib\\site-packages (from ultralytics==8.0.0) (3.1.40)\n",
      "Requirement already satisfied: gitdb<5,>=4.0.1 in c:\\users\\navee\\miniconda3\\envs\\cims\\lib\\site-packages (from GitPython>=3.1.24->ultralytics==8.0.0) (4.0.11)\n",
      "Requirement already satisfied: omegaconf<2.4,>=2.2 in c:\\users\\navee\\miniconda3\\envs\\cims\\lib\\site-packages (from hydra-core>=1.2.0->ultralytics==8.0.0) (2.3.0)\n",
      "Requirement already satisfied: antlr4-python3-runtime==4.9.* in c:\\users\\navee\\miniconda3\\envs\\cims\\lib\\site-packages (from hydra-core>=1.2.0->ultralytics==8.0.0) (4.9.3)\n",
      "Requirement already satisfied: packaging in c:\\users\\navee\\miniconda3\\envs\\cims\\lib\\site-packages (from hydra-core>=1.2.0->ultralytics==8.0.0) (23.2)\n",
      "Requirement already satisfied: contourpy>=1.0.1 in c:\\users\\navee\\miniconda3\\envs\\cims\\lib\\site-packages (from matplotlib>=3.2.2->ultralytics==8.0.0) (1.1.1)\n",
      "Requirement already satisfied: cycler>=0.10 in c:\\users\\navee\\miniconda3\\envs\\cims\\lib\\site-packages (from matplotlib>=3.2.2->ultralytics==8.0.0) (0.10.0)\n",
      "Requirement already satisfied: fonttools>=4.22.0 in c:\\users\\navee\\miniconda3\\envs\\cims\\lib\\site-packages (from matplotlib>=3.2.2->ultralytics==8.0.0) (4.43.0)\n",
      "Requirement already satisfied: kiwisolver>=1.0.1 in c:\\users\\navee\\miniconda3\\envs\\cims\\lib\\site-packages (from matplotlib>=3.2.2->ultralytics==8.0.0) (1.4.5)\n",
      "Requirement already satisfied: pyparsing>=2.3.1 in c:\\users\\navee\\miniconda3\\envs\\cims\\lib\\site-packages (from matplotlib>=3.2.2->ultralytics==8.0.0) (2.4.7)\n",
      "Requirement already satisfied: python-dateutil>=2.7 in c:\\users\\navee\\miniconda3\\envs\\cims\\lib\\site-packages (from matplotlib>=3.2.2->ultralytics==8.0.0) (2.8.2)\n",
      "Requirement already satisfied: pytz>=2020.1 in c:\\users\\navee\\miniconda3\\envs\\cims\\lib\\site-packages (from pandas>=1.1.4->ultralytics==8.0.0) (2023.3.post1)\n",
      "Requirement already satisfied: tzdata>=2022.1 in c:\\users\\navee\\miniconda3\\envs\\cims\\lib\\site-packages (from pandas>=1.1.4->ultralytics==8.0.0) (2023.3)\n",
      "Requirement already satisfied: charset-normalizer<4,>=2 in c:\\users\\navee\\miniconda3\\envs\\cims\\lib\\site-packages (from requests>=2.23.0->ultralytics==8.0.0) (3.3.2)\n",
      "Requirement already satisfied: idna<4,>=2.5 in c:\\users\\navee\\miniconda3\\envs\\cims\\lib\\site-packages (from requests>=2.23.0->ultralytics==8.0.0) (2.10)\n",
      "Requirement already satisfied: urllib3<3,>=1.21.1 in c:\\users\\navee\\miniconda3\\envs\\cims\\lib\\site-packages (from requests>=2.23.0->ultralytics==8.0.0) (2.1.0)\n",
      "Requirement already satisfied: certifi>=2017.4.17 in c:\\users\\navee\\miniconda3\\envs\\cims\\lib\\site-packages (from requests>=2.23.0->ultralytics==8.0.0) (2023.7.22)\n",
      "Requirement already satisfied: absl-py>=0.4 in c:\\users\\navee\\miniconda3\\envs\\cims\\lib\\site-packages (from tensorboard>=2.4.1->ultralytics==8.0.0) (2.0.0)\n",
      "Requirement already satisfied: grpcio>=1.48.2 in c:\\users\\navee\\miniconda3\\envs\\cims\\lib\\site-packages (from tensorboard>=2.4.1->ultralytics==8.0.0) (1.59.3)\n",
      "Requirement already satisfied: google-auth<3,>=1.6.3 in c:\\users\\navee\\miniconda3\\envs\\cims\\lib\\site-packages (from tensorboard>=2.4.1->ultralytics==8.0.0) (2.24.0)\n",
      "Requirement already satisfied: google-auth-oauthlib<2,>=0.5 in c:\\users\\navee\\miniconda3\\envs\\cims\\lib\\site-packages (from tensorboard>=2.4.1->ultralytics==8.0.0) (1.1.0)\n",
      "Requirement already satisfied: markdown>=2.6.8 in c:\\users\\navee\\miniconda3\\envs\\cims\\lib\\site-packages (from tensorboard>=2.4.1->ultralytics==8.0.0) (3.5.1)\n",
      "Requirement already satisfied: protobuf<4.24,>=3.19.6 in c:\\users\\navee\\miniconda3\\envs\\cims\\lib\\site-packages (from tensorboard>=2.4.1->ultralytics==8.0.0) (4.23.4)\n",
      "Requirement already satisfied: setuptools>=41.0.0 in c:\\users\\navee\\miniconda3\\envs\\cims\\lib\\site-packages (from tensorboard>=2.4.1->ultralytics==8.0.0) (68.0.0)\n",
      "Requirement already satisfied: six>1.9 in c:\\users\\navee\\miniconda3\\envs\\cims\\lib\\site-packages (from tensorboard>=2.4.1->ultralytics==8.0.0) (1.16.0)\n",
      "Requirement already satisfied: tensorboard-data-server<0.8.0,>=0.7.0 in c:\\users\\navee\\miniconda3\\envs\\cims\\lib\\site-packages (from tensorboard>=2.4.1->ultralytics==8.0.0) (0.7.2)\n",
      "Requirement already satisfied: werkzeug>=1.0.1 in c:\\users\\navee\\miniconda3\\envs\\cims\\lib\\site-packages (from tensorboard>=2.4.1->ultralytics==8.0.0) (3.0.1)\n",
      "Requirement already satisfied: filelock in c:\\users\\navee\\miniconda3\\envs\\cims\\lib\\site-packages (from torch>=1.7.0->ultralytics==8.0.0) (3.12.4)\n",
      "Requirement already satisfied: typing-extensions in c:\\users\\navee\\miniconda3\\envs\\cims\\lib\\site-packages (from torch>=1.7.0->ultralytics==8.0.0) (4.8.0)\n",
      "Requirement already satisfied: sympy in c:\\users\\navee\\miniconda3\\envs\\cims\\lib\\site-packages (from torch>=1.7.0->ultralytics==8.0.0) (1.12)\n",
      "Requirement already satisfied: networkx in c:\\users\\navee\\miniconda3\\envs\\cims\\lib\\site-packages (from torch>=1.7.0->ultralytics==8.0.0) (3.1)\n",
      "Requirement already satisfied: jinja2 in c:\\users\\navee\\miniconda3\\envs\\cims\\lib\\site-packages (from torch>=1.7.0->ultralytics==8.0.0) (3.1.2)\n",
      "Requirement already satisfied: fsspec in c:\\users\\navee\\miniconda3\\envs\\cims\\lib\\site-packages (from torch>=1.7.0->ultralytics==8.0.0) (2023.10.0)\n",
      "Requirement already satisfied: colorama in c:\\users\\navee\\miniconda3\\envs\\cims\\lib\\site-packages (from tqdm>=4.64.0->ultralytics==8.0.0) (0.4.6)\n",
      "Requirement already satisfied: decorator in c:\\users\\navee\\miniconda3\\envs\\cims\\lib\\site-packages (from ipython->ultralytics==8.0.0) (5.1.1)\n",
      "Requirement already satisfied: jedi>=0.16 in c:\\users\\navee\\miniconda3\\envs\\cims\\lib\\site-packages (from ipython->ultralytics==8.0.0) (0.19.1)\n",
      "Requirement already satisfied: matplotlib-inline in c:\\users\\navee\\miniconda3\\envs\\cims\\lib\\site-packages (from ipython->ultralytics==8.0.0) (0.1.6)\n",
      "Requirement already satisfied: prompt-toolkit<3.1.0,>=3.0.41 in c:\\users\\navee\\miniconda3\\envs\\cims\\lib\\site-packages (from ipython->ultralytics==8.0.0) (3.0.41)\n",
      "Requirement already satisfied: pygments>=2.4.0 in c:\\users\\navee\\miniconda3\\envs\\cims\\lib\\site-packages (from ipython->ultralytics==8.0.0) (2.17.2)\n",
      "Requirement already satisfied: stack-data in c:\\users\\navee\\miniconda3\\envs\\cims\\lib\\site-packages (from ipython->ultralytics==8.0.0) (0.6.2)\n",
      "Requirement already satisfied: traitlets>=5 in c:\\users\\navee\\miniconda3\\envs\\cims\\lib\\site-packages (from ipython->ultralytics==8.0.0) (5.14.0)\n",
      "Requirement already satisfied: exceptiongroup in c:\\users\\navee\\miniconda3\\envs\\cims\\lib\\site-packages (from ipython->ultralytics==8.0.0) (1.2.0)\n",
      "Requirement already satisfied: smmap<6,>=3.0.1 in c:\\users\\navee\\miniconda3\\envs\\cims\\lib\\site-packages (from gitdb<5,>=4.0.1->GitPython>=3.1.24->ultralytics==8.0.0) (5.0.1)\n",
      "Requirement already satisfied: cachetools<6.0,>=2.0.0 in c:\\users\\navee\\miniconda3\\envs\\cims\\lib\\site-packages (from google-auth<3,>=1.6.3->tensorboard>=2.4.1->ultralytics==8.0.0) (5.3.2)\n",
      "Requirement already satisfied: pyasn1-modules>=0.2.1 in c:\\users\\navee\\miniconda3\\envs\\cims\\lib\\site-packages (from google-auth<3,>=1.6.3->tensorboard>=2.4.1->ultralytics==8.0.0) (0.3.0)\n",
      "Requirement already satisfied: rsa<5,>=3.1.4 in c:\\users\\navee\\miniconda3\\envs\\cims\\lib\\site-packages (from google-auth<3,>=1.6.3->tensorboard>=2.4.1->ultralytics==8.0.0) (4.9)\n",
      "Requirement already satisfied: requests-oauthlib>=0.7.0 in c:\\users\\navee\\miniconda3\\envs\\cims\\lib\\site-packages (from google-auth-oauthlib<2,>=0.5->tensorboard>=2.4.1->ultralytics==8.0.0) (1.3.1)\n",
      "Requirement already satisfied: parso<0.9.0,>=0.8.3 in c:\\users\\navee\\miniconda3\\envs\\cims\\lib\\site-packages (from jedi>=0.16->ipython->ultralytics==8.0.0) (0.8.3)\n",
      "Requirement already satisfied: wcwidth in c:\\users\\navee\\miniconda3\\envs\\cims\\lib\\site-packages (from prompt-toolkit<3.1.0,>=3.0.41->ipython->ultralytics==8.0.0) (0.2.12)\n",
      "Requirement already satisfied: MarkupSafe>=2.1.1 in c:\\users\\navee\\miniconda3\\envs\\cims\\lib\\site-packages (from werkzeug>=1.0.1->tensorboard>=2.4.1->ultralytics==8.0.0) (2.1.3)\n",
      "Requirement already satisfied: executing>=1.2.0 in c:\\users\\navee\\miniconda3\\envs\\cims\\lib\\site-packages (from stack-data->ipython->ultralytics==8.0.0) (2.0.1)\n",
      "Requirement already satisfied: asttokens>=2.1.0 in c:\\users\\navee\\miniconda3\\envs\\cims\\lib\\site-packages (from stack-data->ipython->ultralytics==8.0.0) (2.4.1)\n",
      "Requirement already satisfied: pure-eval in c:\\users\\navee\\miniconda3\\envs\\cims\\lib\\site-packages (from stack-data->ipython->ultralytics==8.0.0) (0.2.2)\n",
      "Requirement already satisfied: mpmath>=0.19 in c:\\users\\navee\\miniconda3\\envs\\cims\\lib\\site-packages (from sympy->torch>=1.7.0->ultralytics==8.0.0) (1.3.0)\n",
      "Requirement already satisfied: pyasn1<0.6.0,>=0.4.6 in c:\\users\\navee\\miniconda3\\envs\\cims\\lib\\site-packages (from pyasn1-modules>=0.2.1->google-auth<3,>=1.6.3->tensorboard>=2.4.1->ultralytics==8.0.0) (0.5.1)\n",
      "Requirement already satisfied: oauthlib>=3.0.0 in c:\\users\\navee\\miniconda3\\envs\\cims\\lib\\site-packages (from requests-oauthlib>=0.7.0->google-auth-oauthlib<2,>=0.5->tensorboard>=2.4.1->ultralytics==8.0.0) (3.2.2)\n",
      "Note: you may need to restart the kernel to use updated packages.\n"
     ]
    }
   ],
   "source": [
    "pip install ultralytics==8.0.0"
   ]
  },
  {
   "cell_type": "code",
   "execution_count": 15,
   "metadata": {},
   "outputs": [],
   "source": [
    "import ultralytics"
   ]
  },
  {
   "cell_type": "code",
   "execution_count": 16,
   "metadata": {},
   "outputs": [
    {
     "name": "stderr",
     "output_type": "stream",
     "text": [
      "Ultralytics YOLOv8.0.0  Python-3.10.13 torch-2.1.1+cpu CPU\n",
      "Setup complete  (8 CPUs, 15.8 GB RAM, 224.8/454.8 GB disk)\n"
     ]
    }
   ],
   "source": [
    "ultralytics.checks()"
   ]
  },
  {
   "cell_type": "code",
   "execution_count": 17,
   "metadata": {},
   "outputs": [],
   "source": [
    "HOME = \"E:\\Traffic_Light_Detection\\Dataset\""
   ]
  },
  {
   "cell_type": "code",
   "execution_count": 18,
   "metadata": {},
   "outputs": [
    {
     "name": "stdout",
     "output_type": "stream",
     "text": [
      "E:\\Traffic_Light_Detection\\Dataset\n"
     ]
    }
   ],
   "source": [
    "print(HOME)"
   ]
  },
  {
   "cell_type": "code",
   "execution_count": 19,
   "metadata": {},
   "outputs": [
    {
     "name": "stdout",
     "output_type": "stream",
     "text": [
      "E:\\Traffic_Light_Detection\\Dataset\n"
     ]
    }
   ],
   "source": [
    "%cd \"E:\\Traffic_Light_Detection\\Dataset\""
   ]
  },
  {
   "cell_type": "code",
   "execution_count": 20,
   "metadata": {},
   "outputs": [
    {
     "name": "stdout",
     "output_type": "stream",
     "text": [
      "Requirement already satisfied: roboflow in c:\\users\\navee\\miniconda3\\envs\\cims\\lib\\site-packages (1.1.11)\n",
      "Requirement already satisfied: certifi==2023.7.22 in c:\\users\\navee\\miniconda3\\envs\\cims\\lib\\site-packages (from roboflow) (2023.7.22)\n",
      "Requirement already satisfied: chardet==4.0.0 in c:\\users\\navee\\miniconda3\\envs\\cims\\lib\\site-packages (from roboflow) (4.0.0)\n",
      "Requirement already satisfied: cycler==0.10.0 in c:\\users\\navee\\miniconda3\\envs\\cims\\lib\\site-packages (from roboflow) (0.10.0)\n",
      "Requirement already satisfied: idna==2.10 in c:\\users\\navee\\miniconda3\\envs\\cims\\lib\\site-packages (from roboflow) (2.10)\n",
      "Requirement already satisfied: kiwisolver>=1.3.1 in c:\\users\\navee\\miniconda3\\envs\\cims\\lib\\site-packages (from roboflow) (1.4.5)\n",
      "Requirement already satisfied: matplotlib in c:\\users\\navee\\miniconda3\\envs\\cims\\lib\\site-packages (from roboflow) (3.8.0)\n",
      "Requirement already satisfied: numpy>=1.18.5 in c:\\users\\navee\\miniconda3\\envs\\cims\\lib\\site-packages (from roboflow) (1.26.0)\n",
      "Requirement already satisfied: opencv-python-headless==4.8.0.74 in c:\\users\\navee\\miniconda3\\envs\\cims\\lib\\site-packages (from roboflow) (4.8.0.74)\n",
      "Requirement already satisfied: Pillow>=7.1.2 in c:\\users\\navee\\miniconda3\\envs\\cims\\lib\\site-packages (from roboflow) (10.0.1)\n",
      "Requirement already satisfied: pyparsing==2.4.7 in c:\\users\\navee\\miniconda3\\envs\\cims\\lib\\site-packages (from roboflow) (2.4.7)\n",
      "Requirement already satisfied: python-dateutil in c:\\users\\navee\\miniconda3\\envs\\cims\\lib\\site-packages (from roboflow) (2.8.2)\n",
      "Requirement already satisfied: python-dotenv in c:\\users\\navee\\miniconda3\\envs\\cims\\lib\\site-packages (from roboflow) (1.0.0)\n",
      "Requirement already satisfied: requests in c:\\users\\navee\\miniconda3\\envs\\cims\\lib\\site-packages (from roboflow) (2.31.0)\n",
      "Requirement already satisfied: six in c:\\users\\navee\\miniconda3\\envs\\cims\\lib\\site-packages (from roboflow) (1.16.0)\n",
      "Requirement already satisfied: supervision in c:\\users\\navee\\miniconda3\\envs\\cims\\lib\\site-packages (from roboflow) (0.16.0)\n",
      "Requirement already satisfied: urllib3>=1.26.6 in c:\\users\\navee\\miniconda3\\envs\\cims\\lib\\site-packages (from roboflow) (2.1.0)\n",
      "Requirement already satisfied: tqdm>=4.41.0 in c:\\users\\navee\\miniconda3\\envs\\cims\\lib\\site-packages (from roboflow) (4.66.1)\n",
      "Requirement already satisfied: PyYAML>=5.3.1 in c:\\users\\navee\\miniconda3\\envs\\cims\\lib\\site-packages (from roboflow) (6.0.1)\n",
      "Requirement already satisfied: requests-toolbelt in c:\\users\\navee\\miniconda3\\envs\\cims\\lib\\site-packages (from roboflow) (1.0.0)\n",
      "Requirement already satisfied: python-magic in c:\\users\\navee\\miniconda3\\envs\\cims\\lib\\site-packages (from roboflow) (0.4.27)\n",
      "Requirement already satisfied: colorama in c:\\users\\navee\\miniconda3\\envs\\cims\\lib\\site-packages (from tqdm>=4.41.0->roboflow) (0.4.6)\n",
      "Requirement already satisfied: contourpy>=1.0.1 in c:\\users\\navee\\miniconda3\\envs\\cims\\lib\\site-packages (from matplotlib->roboflow) (1.1.1)\n",
      "Requirement already satisfied: fonttools>=4.22.0 in c:\\users\\navee\\miniconda3\\envs\\cims\\lib\\site-packages (from matplotlib->roboflow) (4.43.0)\n",
      "Requirement already satisfied: packaging>=20.0 in c:\\users\\navee\\miniconda3\\envs\\cims\\lib\\site-packages (from matplotlib->roboflow) (23.2)\n",
      "Requirement already satisfied: charset-normalizer<4,>=2 in c:\\users\\navee\\miniconda3\\envs\\cims\\lib\\site-packages (from requests->roboflow) (3.3.2)\n",
      "Requirement already satisfied: scipy<2.0.0,>=1.9.0 in c:\\users\\navee\\miniconda3\\envs\\cims\\lib\\site-packages (from supervision->roboflow) (1.11.3)\n"
     ]
    }
   ],
   "source": [
    "!pip install roboflow"
   ]
  },
  {
   "cell_type": "code",
   "execution_count": 4,
   "metadata": {},
   "outputs": [
    {
     "name": "stdout",
     "output_type": "stream",
     "text": [
      "loading Roboflow workspace...\n",
      "loading Roboflow project...\n",
      "Dependency ultralytics==8.0.196 is required but found version=8.0.0, to fix: `pip install ultralytics==8.0.196`\n"
     ]
    },
    {
     "name": "stderr",
     "output_type": "stream",
     "text": [
      "Downloading Dataset Version Zip in Traffic-Lights-4 to yolov8:: 100%|██████████| 96117/96117 [00:27<00:00, 3498.61it/s]"
     ]
    },
    {
     "name": "stdout",
     "output_type": "stream",
     "text": [
      "\n"
     ]
    },
    {
     "name": "stderr",
     "output_type": "stream",
     "text": [
      "\n",
      "Extracting Dataset Version Zip to Traffic-Lights-4 in yolov8:: 100%|██████████| 10204/10204 [00:05<00:00, 1886.54it/s]\n"
     ]
    }
   ],
   "source": [
    "from roboflow import Roboflow\n",
    "rf = Roboflow(api_key=\"sRZFgPn7f9rMLPTIU8Rq\")\n",
    "project = rf.workspace(\"group-e\").project(\"traffic-lights-lxcaj\")\n",
    "dataset = project.version(4).download(\"yolov8\")"
   ]
  },
  {
   "cell_type": "code",
   "execution_count": 31,
   "metadata": {},
   "outputs": [
    {
     "name": "stdout",
     "output_type": "stream",
     "text": [
      "E:\\Traffic_Light_Detection\\Traffic_Lights_4\n",
      "^C\n"
     ]
    }
   ],
   "source": [
    "%cd \"E:\\Traffic_Light_Detection\\Traffic_Lights_4\"\n",
    "!yolo task=detect mode=train model=yolov8s.pt data='E:\\Traffic_Light_Detection\\Traffic_Lights_4\\data.yaml' epochs=1 imgsz=640\n"
   ]
  }
 ],
 "metadata": {
  "kernelspec": {
   "display_name": "Python 3",
   "language": "python",
   "name": "python3"
  },
  "language_info": {
   "codemirror_mode": {
    "name": "ipython",
    "version": 3
   },
   "file_extension": ".py",
   "mimetype": "text/x-python",
   "name": "python",
   "nbconvert_exporter": "python",
   "pygments_lexer": "ipython3",
   "version": "3.10.13"
  }
 },
 "nbformat": 4,
 "nbformat_minor": 2
}
