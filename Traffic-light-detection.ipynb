{
 "cells": [
  {
   "cell_type": "code",
   "execution_count": 1,
   "metadata": {},
   "outputs": [],
   "source": [
    "import os"
   ]
  },
  {
   "cell_type": "code",
   "execution_count": 2,
   "metadata": {},
   "outputs": [],
   "source": [
    "import glob"
   ]
  },
  {
   "cell_type": "code",
   "execution_count": 3,
   "metadata": {},
   "outputs": [],
   "source": [
    "from IPython.display import Image, display"
   ]
  },
  {
   "cell_type": "code",
   "execution_count": 4,
   "metadata": {},
   "outputs": [
    {
     "name": "stdout",
     "output_type": "stream",
     "text": [
      "Looking in indexes: https://pypi.org/simple, https://pypi.ngc.nvidia.com\n",
      "Requirement already satisfied: ultralytics==8.0.0 in c:\\users\\navee\\miniconda3\\envs\\tld\\lib\\site-packages (8.0.0)\n",
      "Requirement already satisfied: hydra-core>=1.2.0 in c:\\users\\navee\\miniconda3\\envs\\tld\\lib\\site-packages (from ultralytics==8.0.0) (1.3.2)\n",
      "Requirement already satisfied: matplotlib>=3.2.2 in c:\\users\\navee\\miniconda3\\envs\\tld\\lib\\site-packages (from ultralytics==8.0.0) (3.8.2)\n",
      "Requirement already satisfied: numpy>=1.18.5 in c:\\users\\navee\\miniconda3\\envs\\tld\\lib\\site-packages (from ultralytics==8.0.0) (1.26.2)\n",
      "Requirement already satisfied: opencv-python>=4.1.1 in c:\\users\\navee\\miniconda3\\envs\\tld\\lib\\site-packages (from ultralytics==8.0.0) (4.8.1.78)\n",
      "Requirement already satisfied: Pillow>=7.1.2 in c:\\users\\navee\\miniconda3\\envs\\tld\\lib\\site-packages (from ultralytics==8.0.0) (10.1.0)\n",
      "Requirement already satisfied: PyYAML>=5.3.1 in c:\\users\\navee\\miniconda3\\envs\\tld\\lib\\site-packages (from ultralytics==8.0.0) (6.0.1)\n",
      "Requirement already satisfied: requests>=2.23.0 in c:\\users\\navee\\miniconda3\\envs\\tld\\lib\\site-packages (from ultralytics==8.0.0) (2.31.0)\n",
      "Requirement already satisfied: scipy>=1.4.1 in c:\\users\\navee\\miniconda3\\envs\\tld\\lib\\site-packages (from ultralytics==8.0.0) (1.11.4)\n",
      "Requirement already satisfied: torch>=1.7.0 in c:\\users\\navee\\miniconda3\\envs\\tld\\lib\\site-packages (from ultralytics==8.0.0) (2.1.1)\n",
      "Requirement already satisfied: torchvision>=0.8.1 in c:\\users\\navee\\miniconda3\\envs\\tld\\lib\\site-packages (from ultralytics==8.0.0) (0.16.1)\n",
      "Requirement already satisfied: tqdm>=4.64.0 in c:\\users\\navee\\miniconda3\\envs\\tld\\lib\\site-packages (from ultralytics==8.0.0) (4.66.1)\n",
      "Requirement already satisfied: tensorboard>=2.4.1 in c:\\users\\navee\\miniconda3\\envs\\tld\\lib\\site-packages (from ultralytics==8.0.0) (2.15.1)\n",
      "Requirement already satisfied: pandas>=1.1.4 in c:\\users\\navee\\miniconda3\\envs\\tld\\lib\\site-packages (from ultralytics==8.0.0) (2.1.3)\n",
      "Requirement already satisfied: seaborn>=0.11.0 in c:\\users\\navee\\miniconda3\\envs\\tld\\lib\\site-packages (from ultralytics==8.0.0) (0.13.0)\n",
      "Requirement already satisfied: ipython in c:\\users\\navee\\miniconda3\\envs\\tld\\lib\\site-packages (from ultralytics==8.0.0) (8.18.1)\n",
      "Requirement already satisfied: psutil in c:\\users\\navee\\miniconda3\\envs\\tld\\lib\\site-packages (from ultralytics==8.0.0) (5.9.0)\n",
      "Requirement already satisfied: thop>=0.1.1 in c:\\users\\navee\\miniconda3\\envs\\tld\\lib\\site-packages (from ultralytics==8.0.0) (0.1.1.post2209072238)\n",
      "Requirement already satisfied: GitPython>=3.1.24 in c:\\users\\navee\\miniconda3\\envs\\tld\\lib\\site-packages (from ultralytics==8.0.0) (3.1.40)\n",
      "Requirement already satisfied: gitdb<5,>=4.0.1 in c:\\users\\navee\\miniconda3\\envs\\tld\\lib\\site-packages (from GitPython>=3.1.24->ultralytics==8.0.0) (4.0.11)\n",
      "Requirement already satisfied: omegaconf<2.4,>=2.2 in c:\\users\\navee\\miniconda3\\envs\\tld\\lib\\site-packages (from hydra-core>=1.2.0->ultralytics==8.0.0) (2.3.0)\n",
      "Requirement already satisfied: antlr4-python3-runtime==4.9.* in c:\\users\\navee\\miniconda3\\envs\\tld\\lib\\site-packages (from hydra-core>=1.2.0->ultralytics==8.0.0) (4.9.3)\n",
      "Requirement already satisfied: packaging in c:\\users\\navee\\miniconda3\\envs\\tld\\lib\\site-packages (from hydra-core>=1.2.0->ultralytics==8.0.0) (23.2)\n",
      "Requirement already satisfied: contourpy>=1.0.1 in c:\\users\\navee\\miniconda3\\envs\\tld\\lib\\site-packages (from matplotlib>=3.2.2->ultralytics==8.0.0) (1.2.0)\n",
      "Requirement already satisfied: cycler>=0.10 in c:\\users\\navee\\miniconda3\\envs\\tld\\lib\\site-packages (from matplotlib>=3.2.2->ultralytics==8.0.0) (0.10.0)\n",
      "Requirement already satisfied: fonttools>=4.22.0 in c:\\users\\navee\\miniconda3\\envs\\tld\\lib\\site-packages (from matplotlib>=3.2.2->ultralytics==8.0.0) (4.45.1)\n",
      "Requirement already satisfied: kiwisolver>=1.3.1 in c:\\users\\navee\\miniconda3\\envs\\tld\\lib\\site-packages (from matplotlib>=3.2.2->ultralytics==8.0.0) (1.4.5)\n",
      "Requirement already satisfied: pyparsing>=2.3.1 in c:\\users\\navee\\miniconda3\\envs\\tld\\lib\\site-packages (from matplotlib>=3.2.2->ultralytics==8.0.0) (2.4.7)\n",
      "Requirement already satisfied: python-dateutil>=2.7 in c:\\users\\navee\\miniconda3\\envs\\tld\\lib\\site-packages (from matplotlib>=3.2.2->ultralytics==8.0.0) (2.8.2)\n",
      "Requirement already satisfied: pytz>=2020.1 in c:\\users\\navee\\miniconda3\\envs\\tld\\lib\\site-packages (from pandas>=1.1.4->ultralytics==8.0.0) (2023.3.post1)\n",
      "Requirement already satisfied: tzdata>=2022.1 in c:\\users\\navee\\miniconda3\\envs\\tld\\lib\\site-packages (from pandas>=1.1.4->ultralytics==8.0.0) (2023.3)\n",
      "Requirement already satisfied: charset-normalizer<4,>=2 in c:\\users\\navee\\miniconda3\\envs\\tld\\lib\\site-packages (from requests>=2.23.0->ultralytics==8.0.0) (3.3.2)\n",
      "Requirement already satisfied: idna<4,>=2.5 in c:\\users\\navee\\miniconda3\\envs\\tld\\lib\\site-packages (from requests>=2.23.0->ultralytics==8.0.0) (2.10)\n",
      "Requirement already satisfied: urllib3<3,>=1.21.1 in c:\\users\\navee\\miniconda3\\envs\\tld\\lib\\site-packages (from requests>=2.23.0->ultralytics==8.0.0) (2.1.0)\n",
      "Requirement already satisfied: certifi>=2017.4.17 in c:\\users\\navee\\miniconda3\\envs\\tld\\lib\\site-packages (from requests>=2.23.0->ultralytics==8.0.0) (2023.7.22)\n",
      "Requirement already satisfied: absl-py>=0.4 in c:\\users\\navee\\miniconda3\\envs\\tld\\lib\\site-packages (from tensorboard>=2.4.1->ultralytics==8.0.0) (2.0.0)\n",
      "Requirement already satisfied: grpcio>=1.48.2 in c:\\users\\navee\\miniconda3\\envs\\tld\\lib\\site-packages (from tensorboard>=2.4.1->ultralytics==8.0.0) (1.59.3)\n",
      "Requirement already satisfied: google-auth<3,>=1.6.3 in c:\\users\\navee\\miniconda3\\envs\\tld\\lib\\site-packages (from tensorboard>=2.4.1->ultralytics==8.0.0) (2.23.4)\n",
      "Requirement already satisfied: google-auth-oauthlib<2,>=0.5 in c:\\users\\navee\\miniconda3\\envs\\tld\\lib\\site-packages (from tensorboard>=2.4.1->ultralytics==8.0.0) (1.1.0)\n",
      "Requirement already satisfied: markdown>=2.6.8 in c:\\users\\navee\\miniconda3\\envs\\tld\\lib\\site-packages (from tensorboard>=2.4.1->ultralytics==8.0.0) (3.5.1)\n",
      "Requirement already satisfied: protobuf<4.24,>=3.19.6 in c:\\users\\navee\\miniconda3\\envs\\tld\\lib\\site-packages (from tensorboard>=2.4.1->ultralytics==8.0.0) (4.23.4)\n",
      "Requirement already satisfied: setuptools>=41.0.0 in c:\\users\\navee\\miniconda3\\envs\\tld\\lib\\site-packages (from tensorboard>=2.4.1->ultralytics==8.0.0) (68.0.0)\n",
      "Requirement already satisfied: six>1.9 in c:\\users\\navee\\miniconda3\\envs\\tld\\lib\\site-packages (from tensorboard>=2.4.1->ultralytics==8.0.0) (1.16.0)\n",
      "Requirement already satisfied: tensorboard-data-server<0.8.0,>=0.7.0 in c:\\users\\navee\\miniconda3\\envs\\tld\\lib\\site-packages (from tensorboard>=2.4.1->ultralytics==8.0.0) (0.7.2)\n",
      "Requirement already satisfied: werkzeug>=1.0.1 in c:\\users\\navee\\miniconda3\\envs\\tld\\lib\\site-packages (from tensorboard>=2.4.1->ultralytics==8.0.0) (3.0.1)\n",
      "Requirement already satisfied: filelock in c:\\users\\navee\\miniconda3\\envs\\tld\\lib\\site-packages (from torch>=1.7.0->ultralytics==8.0.0) (3.13.1)\n",
      "Requirement already satisfied: typing-extensions in c:\\users\\navee\\miniconda3\\envs\\tld\\lib\\site-packages (from torch>=1.7.0->ultralytics==8.0.0) (4.8.0)\n",
      "Requirement already satisfied: sympy in c:\\users\\navee\\miniconda3\\envs\\tld\\lib\\site-packages (from torch>=1.7.0->ultralytics==8.0.0) (1.12)\n",
      "Requirement already satisfied: networkx in c:\\users\\navee\\miniconda3\\envs\\tld\\lib\\site-packages (from torch>=1.7.0->ultralytics==8.0.0) (3.2.1)\n",
      "Requirement already satisfied: jinja2 in c:\\users\\navee\\miniconda3\\envs\\tld\\lib\\site-packages (from torch>=1.7.0->ultralytics==8.0.0) (3.1.2)\n",
      "Requirement already satisfied: fsspec in c:\\users\\navee\\miniconda3\\envs\\tld\\lib\\site-packages (from torch>=1.7.0->ultralytics==8.0.0) (2023.10.0)\n",
      "Requirement already satisfied: colorama in c:\\users\\navee\\miniconda3\\envs\\tld\\lib\\site-packages (from tqdm>=4.64.0->ultralytics==8.0.0) (0.4.6)\n",
      "Requirement already satisfied: decorator in c:\\users\\navee\\miniconda3\\envs\\tld\\lib\\site-packages (from ipython->ultralytics==8.0.0) (5.1.1)\n",
      "Requirement already satisfied: jedi>=0.16 in c:\\users\\navee\\miniconda3\\envs\\tld\\lib\\site-packages (from ipython->ultralytics==8.0.0) (0.19.1)\n",
      "Requirement already satisfied: matplotlib-inline in c:\\users\\navee\\miniconda3\\envs\\tld\\lib\\site-packages (from ipython->ultralytics==8.0.0) (0.1.6)\n",
      "Requirement already satisfied: prompt-toolkit<3.1.0,>=3.0.41 in c:\\users\\navee\\miniconda3\\envs\\tld\\lib\\site-packages (from ipython->ultralytics==8.0.0) (3.0.41)\n",
      "Requirement already satisfied: pygments>=2.4.0 in c:\\users\\navee\\miniconda3\\envs\\tld\\lib\\site-packages (from ipython->ultralytics==8.0.0) (2.17.2)\n",
      "Requirement already satisfied: stack-data in c:\\users\\navee\\miniconda3\\envs\\tld\\lib\\site-packages (from ipython->ultralytics==8.0.0) (0.6.2)\n",
      "Requirement already satisfied: traitlets>=5 in c:\\users\\navee\\miniconda3\\envs\\tld\\lib\\site-packages (from ipython->ultralytics==8.0.0) (5.14.0)\n",
      "Requirement already satisfied: exceptiongroup in c:\\users\\navee\\miniconda3\\envs\\tld\\lib\\site-packages (from ipython->ultralytics==8.0.0) (1.2.0)\n",
      "Requirement already satisfied: smmap<6,>=3.0.1 in c:\\users\\navee\\miniconda3\\envs\\tld\\lib\\site-packages (from gitdb<5,>=4.0.1->GitPython>=3.1.24->ultralytics==8.0.0) (5.0.1)\n",
      "Requirement already satisfied: cachetools<6.0,>=2.0.0 in c:\\users\\navee\\miniconda3\\envs\\tld\\lib\\site-packages (from google-auth<3,>=1.6.3->tensorboard>=2.4.1->ultralytics==8.0.0) (5.3.2)\n",
      "Requirement already satisfied: pyasn1-modules>=0.2.1 in c:\\users\\navee\\miniconda3\\envs\\tld\\lib\\site-packages (from google-auth<3,>=1.6.3->tensorboard>=2.4.1->ultralytics==8.0.0) (0.3.0)\n",
      "Requirement already satisfied: rsa<5,>=3.1.4 in c:\\users\\navee\\miniconda3\\envs\\tld\\lib\\site-packages (from google-auth<3,>=1.6.3->tensorboard>=2.4.1->ultralytics==8.0.0) (4.9)\n",
      "Requirement already satisfied: requests-oauthlib>=0.7.0 in c:\\users\\navee\\miniconda3\\envs\\tld\\lib\\site-packages (from google-auth-oauthlib<2,>=0.5->tensorboard>=2.4.1->ultralytics==8.0.0) (1.3.1)\n",
      "Requirement already satisfied: parso<0.9.0,>=0.8.3 in c:\\users\\navee\\miniconda3\\envs\\tld\\lib\\site-packages (from jedi>=0.16->ipython->ultralytics==8.0.0) (0.8.3)\n",
      "Requirement already satisfied: wcwidth in c:\\users\\navee\\miniconda3\\envs\\tld\\lib\\site-packages (from prompt-toolkit<3.1.0,>=3.0.41->ipython->ultralytics==8.0.0) (0.2.12)\n",
      "Requirement already satisfied: MarkupSafe>=2.1.1 in c:\\users\\navee\\miniconda3\\envs\\tld\\lib\\site-packages (from werkzeug>=1.0.1->tensorboard>=2.4.1->ultralytics==8.0.0) (2.1.3)\n",
      "Requirement already satisfied: executing>=1.2.0 in c:\\users\\navee\\miniconda3\\envs\\tld\\lib\\site-packages (from stack-data->ipython->ultralytics==8.0.0) (2.0.1)\n",
      "Requirement already satisfied: asttokens>=2.1.0 in c:\\users\\navee\\miniconda3\\envs\\tld\\lib\\site-packages (from stack-data->ipython->ultralytics==8.0.0) (2.4.1)\n",
      "Requirement already satisfied: pure-eval in c:\\users\\navee\\miniconda3\\envs\\tld\\lib\\site-packages (from stack-data->ipython->ultralytics==8.0.0) (0.2.2)\n",
      "Requirement already satisfied: mpmath>=0.19 in c:\\users\\navee\\miniconda3\\envs\\tld\\lib\\site-packages (from sympy->torch>=1.7.0->ultralytics==8.0.0) (1.3.0)\n",
      "Requirement already satisfied: pyasn1<0.6.0,>=0.4.6 in c:\\users\\navee\\miniconda3\\envs\\tld\\lib\\site-packages (from pyasn1-modules>=0.2.1->google-auth<3,>=1.6.3->tensorboard>=2.4.1->ultralytics==8.0.0) (0.5.1)\n",
      "Requirement already satisfied: oauthlib>=3.0.0 in c:\\users\\navee\\miniconda3\\envs\\tld\\lib\\site-packages (from requests-oauthlib>=0.7.0->google-auth-oauthlib<2,>=0.5->tensorboard>=2.4.1->ultralytics==8.0.0) (3.2.2)\n",
      "Note: you may need to restart the kernel to use updated packages.\n"
     ]
    }
   ],
   "source": [
    "pip install ultralytics==8.0.0"
   ]
  },
  {
   "cell_type": "code",
   "execution_count": 1,
   "metadata": {},
   "outputs": [],
   "source": [
    "import ultralytics"
   ]
  },
  {
   "cell_type": "code",
   "execution_count": 3,
   "metadata": {},
   "outputs": [
    {
     "name": "stderr",
     "output_type": "stream",
     "text": [
      "Ultralytics YOLOv8.0.0  Python-3.10.13 torch-2.1.1+cpu CPU\n",
      "Setup complete  (16 CPUs, 15.6 GB RAM, 104.9/200.2 GB disk)\n"
     ]
    }
   ],
   "source": [
    "ultralytics.checks()"
   ]
  },
  {
   "cell_type": "code",
   "execution_count": 4,
   "metadata": {},
   "outputs": [],
   "source": [
    "HOME = \"D:\\Kle_Tech\\BE\\5Th-Sem\\Traffic_Light_Detection\\Assets\""
   ]
  },
  {
   "cell_type": "code",
   "execution_count": 5,
   "metadata": {},
   "outputs": [
    {
     "name": "stdout",
     "output_type": "stream",
     "text": [
      "D:\\Kle_Tech\\BE\u0005Th-Sem\\Traffic_Light_Detection\\Assets\n"
     ]
    }
   ],
   "source": [
    "print(HOME)"
   ]
  },
  {
   "cell_type": "code",
   "execution_count": 7,
   "metadata": {},
   "outputs": [
    {
     "name": "stdout",
     "output_type": "stream",
     "text": [
      "D:\\Kle_Tech\\BE\\5Th-Sem\\Traffic_Light_Detection\\Assets\n"
     ]
    }
   ],
   "source": [
    "%cd \"D:\\Kle_Tech\\BE\\5Th-Sem\\Traffic_Light_Detection\\Assets\""
   ]
  },
  {
   "cell_type": "code",
   "execution_count": 8,
   "metadata": {},
   "outputs": [
    {
     "name": "stdout",
     "output_type": "stream",
     "text": [
      "Looking in indexes: https://pypi.org/simple, https://pypi.ngc.nvidia.com\n",
      "Requirement already satisfied: roboflow in c:\\users\\navee\\miniconda3\\envs\\tld\\lib\\site-packages (1.1.10)\n",
      "Requirement already satisfied: certifi==2023.7.22 in c:\\users\\navee\\miniconda3\\envs\\tld\\lib\\site-packages (from roboflow) (2023.7.22)\n",
      "Requirement already satisfied: chardet==4.0.0 in c:\\users\\navee\\miniconda3\\envs\\tld\\lib\\site-packages (from roboflow) (4.0.0)\n",
      "Requirement already satisfied: cycler==0.10.0 in c:\\users\\navee\\miniconda3\\envs\\tld\\lib\\site-packages (from roboflow) (0.10.0)\n",
      "Requirement already satisfied: idna==2.10 in c:\\users\\navee\\miniconda3\\envs\\tld\\lib\\site-packages (from roboflow) (2.10)\n",
      "Requirement already satisfied: kiwisolver>=1.3.1 in c:\\users\\navee\\miniconda3\\envs\\tld\\lib\\site-packages (from roboflow) (1.4.5)\n",
      "Requirement already satisfied: matplotlib in c:\\users\\navee\\miniconda3\\envs\\tld\\lib\\site-packages (from roboflow) (3.8.2)\n",
      "Requirement already satisfied: numpy>=1.18.5 in c:\\users\\navee\\miniconda3\\envs\\tld\\lib\\site-packages (from roboflow) (1.26.2)\n",
      "Requirement already satisfied: opencv-python-headless==4.8.0.74 in c:\\users\\navee\\miniconda3\\envs\\tld\\lib\\site-packages (from roboflow) (4.8.0.74)\n",
      "Requirement already satisfied: Pillow>=7.1.2 in c:\\users\\navee\\miniconda3\\envs\\tld\\lib\\site-packages (from roboflow) (10.1.0)\n",
      "Requirement already satisfied: pyparsing==2.4.7 in c:\\users\\navee\\miniconda3\\envs\\tld\\lib\\site-packages (from roboflow) (2.4.7)\n",
      "Requirement already satisfied: python-dateutil in c:\\users\\navee\\miniconda3\\envs\\tld\\lib\\site-packages (from roboflow) (2.8.2)\n",
      "Requirement already satisfied: python-dotenv in c:\\users\\navee\\miniconda3\\envs\\tld\\lib\\site-packages (from roboflow) (1.0.0)\n",
      "Requirement already satisfied: requests in c:\\users\\navee\\miniconda3\\envs\\tld\\lib\\site-packages (from roboflow) (2.31.0)\n",
      "Requirement already satisfied: six in c:\\users\\navee\\miniconda3\\envs\\tld\\lib\\site-packages (from roboflow) (1.16.0)\n",
      "Requirement already satisfied: supervision in c:\\users\\navee\\miniconda3\\envs\\tld\\lib\\site-packages (from roboflow) (0.16.0)\n",
      "Requirement already satisfied: urllib3>=1.26.6 in c:\\users\\navee\\miniconda3\\envs\\tld\\lib\\site-packages (from roboflow) (2.1.0)\n",
      "Requirement already satisfied: tqdm>=4.41.0 in c:\\users\\navee\\miniconda3\\envs\\tld\\lib\\site-packages (from roboflow) (4.66.1)\n",
      "Requirement already satisfied: PyYAML>=5.3.1 in c:\\users\\navee\\miniconda3\\envs\\tld\\lib\\site-packages (from roboflow) (6.0.1)\n",
      "Requirement already satisfied: requests-toolbelt in c:\\users\\navee\\miniconda3\\envs\\tld\\lib\\site-packages (from roboflow) (1.0.0)\n",
      "Requirement already satisfied: python-magic in c:\\users\\navee\\miniconda3\\envs\\tld\\lib\\site-packages (from roboflow) (0.4.27)\n",
      "Requirement already satisfied: colorama in c:\\users\\navee\\miniconda3\\envs\\tld\\lib\\site-packages (from tqdm>=4.41.0->roboflow) (0.4.6)\n",
      "Requirement already satisfied: contourpy>=1.0.1 in c:\\users\\navee\\miniconda3\\envs\\tld\\lib\\site-packages (from matplotlib->roboflow) (1.2.0)\n",
      "Requirement already satisfied: fonttools>=4.22.0 in c:\\users\\navee\\miniconda3\\envs\\tld\\lib\\site-packages (from matplotlib->roboflow) (4.45.1)\n",
      "Requirement already satisfied: packaging>=20.0 in c:\\users\\navee\\miniconda3\\envs\\tld\\lib\\site-packages (from matplotlib->roboflow) (23.2)\n",
      "Requirement already satisfied: charset-normalizer<4,>=2 in c:\\users\\navee\\miniconda3\\envs\\tld\\lib\\site-packages (from requests->roboflow) (3.3.2)\n",
      "Requirement already satisfied: scipy<2.0.0,>=1.9.0 in c:\\users\\navee\\miniconda3\\envs\\tld\\lib\\site-packages (from supervision->roboflow) (1.11.4)\n",
      "Note: you may need to restart the kernel to use updated packages.\n"
     ]
    }
   ],
   "source": [
    "pip install roboflow"
   ]
  },
  {
   "cell_type": "code",
   "execution_count": 10,
   "metadata": {},
   "outputs": [
    {
     "name": "stdout",
     "output_type": "stream",
     "text": [
      "loading Roboflow workspace...\n",
      "loading Roboflow project...\n",
      "Dependency ultralytics==8.0.196 is required but found version=8.0.0, to fix: `pip install ultralytics==8.0.196`\n"
     ]
    },
    {
     "name": "stderr",
     "output_type": "stream",
     "text": [
      "Downloading Dataset Version Zip in Traffic-Lights-4 to yolov8:: 100%|██████████| 96117/96117 [00:26<00:00, 3603.52it/s]"
     ]
    },
    {
     "name": "stdout",
     "output_type": "stream",
     "text": [
      "\n"
     ]
    },
    {
     "name": "stderr",
     "output_type": "stream",
     "text": [
      "\n",
      "Extracting Dataset Version Zip to Traffic-Lights-4 in yolov8:: 100%|██████████| 10204/10204 [00:03<00:00, 3208.16it/s]\n"
     ]
    }
   ],
   "source": [
    "from roboflow import Roboflow\n",
    "rf = Roboflow(api_key=\"sRZFgPn7f9rMLPTIU8Rq\")\n",
    "project = rf.workspace(\"group-e\").project(\"traffic-lights-lxcaj\")\n",
    "dataset = project.version(4).download(\"yolov8\")"
   ]
  },
  {
   "cell_type": "code",
   "execution_count": 11,
   "metadata": {},
   "outputs": [
    {
     "name": "stdout",
     "output_type": "stream",
     "text": [
      "D:\\Kle_Tech\\BE\\5Th-Sem\\Traffic_Light_Detection\\Assets\n",
      "^C\n"
     ]
    }
   ],
   "source": [
    "%cd \"D:\\Kle_Tech\\BE\\5Th-Sem\\Traffic_Light_Detection\\Assets\"\n",
    "!yolo task=detect mode=train model=yolov8s.pt data={dataset.location}/data.yaml epochs=10 imgsz=640\n"
   ]
  }
 ],
 "metadata": {
  "kernelspec": {
   "display_name": "Python 3",
   "language": "python",
   "name": "python3"
  },
  "language_info": {
   "codemirror_mode": {
    "name": "ipython",
    "version": 3
   },
   "file_extension": ".py",
   "mimetype": "text/x-python",
   "name": "python",
   "nbconvert_exporter": "python",
   "pygments_lexer": "ipython3",
   "version": "3.10.13"
  }
 },
 "nbformat": 4,
 "nbformat_minor": 2
}
