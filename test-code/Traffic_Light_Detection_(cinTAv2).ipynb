{
  "nbformat": 4,
  "nbformat_minor": 0,
  "metadata": {
    "colab": {
      "provenance": [],
      "gpuType": "T4"
    },
    "kernelspec": {
      "name": "python3",
      "display_name": "Python 3"
    },
    "language_info": {
      "name": "python"
    },
    "accelerator": "GPU"
  },
  "cells": [
    {
      "cell_type": "code",
      "source": [
        "import os"
      ],
      "metadata": {
        "id": "S6zRClpMiOhU"
      },
      "execution_count": null,
      "outputs": []
    },
    {
      "cell_type": "code",
      "source": [
        "import glob"
      ],
      "metadata": {
        "id": "LTOdjbYxiOrV"
      },
      "execution_count": null,
      "outputs": []
    },
    {
      "cell_type": "code",
      "source": [
        "from IPython.display import Image, display"
      ],
      "metadata": {
        "id": "dZZ-FcnXiOz9"
      },
      "execution_count": null,
      "outputs": []
    },
    {
      "cell_type": "code",
      "source": [
        "!nvidia-smi"
      ],
      "metadata": {
        "id": "6eM8JkeLiRIl"
      },
      "execution_count": null,
      "outputs": []
    },
    {
      "cell_type": "code",
      "source": [
        "pip install ultralytics==8.0.0"
      ],
      "metadata": {
        "id": "KHvoGpIXiRC5"
      },
      "execution_count": null,
      "outputs": []
    },
    {
      "cell_type": "code",
      "source": [
        "import ultralytics"
      ],
      "metadata": {
        "id": "p04kJ6L5iQ-N"
      },
      "execution_count": null,
      "outputs": []
    },
    {
      "cell_type": "code",
      "source": [
        "ultralytics.checks()"
      ],
      "metadata": {
        "id": "Qo2XWmMmiQ3b"
      },
      "execution_count": null,
      "outputs": []
    },
    {
      "cell_type": "code",
      "source": [
        "HOME = \"/content/\""
      ],
      "metadata": {
        "id": "ekQOlpFFiQwG"
      },
      "execution_count": null,
      "outputs": []
    },
    {
      "cell_type": "code",
      "source": [
        "print(HOME)"
      ],
      "metadata": {
        "id": "kJ85MWemix94"
      },
      "execution_count": null,
      "outputs": []
    },
    {
      "cell_type": "code",
      "source": [
        "!mkdir {HOME}/datasets"
      ],
      "metadata": {
        "id": "1wkLarUWix6B"
      },
      "execution_count": null,
      "outputs": []
    },
    {
      "cell_type": "code",
      "source": [
        "%cd {HOME}/datasets"
      ],
      "metadata": {
        "id": "OvM5Z9yrix3i"
      },
      "execution_count": null,
      "outputs": []
    },
    {
      "cell_type": "code",
      "execution_count": null,
      "metadata": {
        "id": "ZS4omnJ7iCsM"
      },
      "outputs": [],
      "source": [
        "!pip install roboflow\n",
        "\n",
        "from roboflow import Roboflow\n",
        "rf = Roboflow(api_key=\"sRZFgPn7f9rMLPTIU8Rq\")\n",
        "project = rf.workspace(\"wawan-pradana\").project(\"cinta_v2\")\n",
        "dataset = project.version(1).download(\"yolov8\")\n"
      ]
    },
    {
      "cell_type": "code",
      "source": [
        "pip install ultralytics==8.0.196"
      ],
      "metadata": {
        "id": "rNEPhrcti4Vi"
      },
      "execution_count": null,
      "outputs": []
    },
    {
      "cell_type": "code",
      "source": [
        "%cd {HOME}\n",
        "!yolo task=detect mode=train model=yolov8s.pt data='/content/datasets2/Traffic_Lights_4/data.yaml' epochs=75 imgsz=640"
      ],
      "metadata": {
        "id": "T4oVMT7gi4TJ"
      },
      "execution_count": null,
      "outputs": []
    },
    {
      "cell_type": "code",
      "source": [
        "!ls '/content/runs/detect/train3'"
      ],
      "metadata": {
        "id": "64SqA0MljX1t"
      },
      "execution_count": null,
      "outputs": []
    },
    {
      "cell_type": "code",
      "source": [
        "from IPython.display import Image, display"
      ],
      "metadata": {
        "id": "bfNyuWnAjZMB"
      },
      "execution_count": null,
      "outputs": []
    },
    {
      "cell_type": "code",
      "source": [
        "Image(filename = f\"/content/runs/detect/train3/confusion_matrix.png\")"
      ],
      "metadata": {
        "id": "Ab3-yNw5jajO"
      },
      "execution_count": null,
      "outputs": []
    },
    {
      "cell_type": "code",
      "source": [
        "Image(filename = f\"/content/runs/detect/train3/val_batch2_pred.jpg\", height = 500)"
      ],
      "metadata": {
        "id": "HIAoNSPPjcD0"
      },
      "execution_count": null,
      "outputs": []
    },
    {
      "cell_type": "code",
      "source": [
        "!yolo task=detect mode=val model='/content/runs/detect/train3/weights/best.pt' data='/content/datasets2/Traffic_Lights_4/data.yaml'\n"
      ],
      "metadata": {
        "id": "Z3BzMLiGjdrg"
      },
      "execution_count": null,
      "outputs": []
    },
    {
      "cell_type": "code",
      "source": [
        "%cd {HOME}\n",
        "!yolo task=detect mode=predict model='/content/runs/detect/train3/weights/best.pt' conf=0.25 source='traff3.jpg'"
      ],
      "metadata": {
        "id": "EtWyfegEjfRZ"
      },
      "execution_count": null,
      "outputs": []
    }
  ]
}